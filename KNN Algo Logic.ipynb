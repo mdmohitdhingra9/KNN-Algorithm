{
 "cells": [
  {
   "cell_type": "code",
   "execution_count": 1,
   "metadata": {
    "collapsed": true
   },
   "outputs": [],
   "source": [
    "import numpy as np\n",
    "import pandas as pd\n",
    "import matplotlib.pyplot as plt\n",
    "%matplotlib inline"
   ]
  },
  {
   "cell_type": "code",
   "execution_count": 12,
   "metadata": {
    "collapsed": true
   },
   "outputs": [],
   "source": [
    "iris_data = pd.read_csv('Iris.csv')"
   ]
  },
  {
   "cell_type": "code",
   "execution_count": 37,
   "metadata": {},
   "outputs": [
    {
     "name": "stdout",
     "output_type": "stream",
     "text": [
      "<class 'pandas.core.frame.DataFrame'>\n",
      "RangeIndex: 150 entries, 0 to 149\n",
      "Data columns (total 5 columns):\n",
      "SepalLengthCm    150 non-null float64\n",
      "SepalWidthCm     150 non-null float64\n",
      "PetalLengthCm    150 non-null float64\n",
      "PetalWidthCm     150 non-null float64\n",
      "Species          150 non-null object\n",
      "dtypes: float64(4), object(1)\n",
      "memory usage: 5.9+ KB\n"
     ]
    }
   ],
   "source": [
    "iris_data.info()"
   ]
  },
  {
   "cell_type": "code",
   "execution_count": 74,
   "metadata": {
    "collapsed": true
   },
   "outputs": [],
   "source": [
    "import csv\n",
    "import random as rnd\n",
    "\n",
    "# load dataset\n",
    "def loadDataSet(filename, split, trainingSet=[], testSet=[]):\n",
    "    with open(filename, 'r') as csvfile:\n",
    "        lines = csv.reader(csvfile)\n",
    "        dataset = list(lines)\n",
    "        for x in range(len(dataset)-1):\n",
    "            for y in range(4):\n",
    "                dataset[x][y] = float(dataset[x][y])\n",
    "                if rnd.random() < split:\n",
    "                    trainingSet.append(dataset[x])\n",
    "                else:\n",
    "                    testSet.append(dataset[x])"
   ]
  },
  {
   "cell_type": "code",
   "execution_count": 39,
   "metadata": {},
   "outputs": [
    {
     "name": "stdout",
     "output_type": "stream",
     "text": [
      "Train:371\n",
      "Test:225\n"
     ]
    }
   ],
   "source": [
    "trainingSet=[]\n",
    "testSet=[]\n",
    "filename='Iris.csv'\n",
    "loadDataSet(filename, 0.66, trainingSet, testSet)\n",
    "print('Train:' + repr(len(trainingSet)))\n",
    "print('Test:' + repr(len(testSet)))"
   ]
  },
  {
   "cell_type": "code",
   "execution_count": 40,
   "metadata": {
    "collapsed": true
   },
   "outputs": [],
   "source": [
    "import math\n",
    "def euclienDistance(instance1, instance2, length):\n",
    "    distance=0\n",
    "    for x in range(length):\n",
    "        distance += pow((instance1[x] - instance2[x]), 2)\n",
    "    return math.sqrt(distance)"
   ]
  },
  {
   "cell_type": "code",
   "execution_count": 43,
   "metadata": {},
   "outputs": [
    {
     "name": "stdout",
     "output_type": "stream",
     "text": [
      "Distance:3.4641016151377544\n"
     ]
    }
   ],
   "source": [
    "data1 = [2,2,2,'a']\n",
    "data2 = [4,4,4,'b']\n",
    "distance = euclienDistance(data1, data2, 3)\n",
    "print(\"Distance:\" + repr(distance))"
   ]
  },
  {
   "cell_type": "code",
   "execution_count": 53,
   "metadata": {},
   "outputs": [
    {
     "data": {
      "text/plain": [
       "'a'"
      ]
     },
     "execution_count": 53,
     "metadata": {},
     "output_type": "execute_result"
    }
   ],
   "source": [
    "import operator\n",
    "lst = [[2,2,3,'a'], [4,4,4,'b']]\n",
    "lst[0][-1]\n",
    "#print(lst.sort(key=operator.itemgetter(1)))"
   ]
  },
  {
   "cell_type": "code",
   "execution_count": 48,
   "metadata": {
    "collapsed": true
   },
   "outputs": [],
   "source": [
    "# get neighbours\n",
    "def getNeighbours(trainingSet, testInstance, k):\n",
    "    distances = []\n",
    "    length = len(testInstance)-1\n",
    "    for x in range(len(trainingSet)):\n",
    "        dist = euclienDistance(trainingSet[x], testInstance, length)\n",
    "        distances.append((trainingSet[x], dist))\n",
    "    distances.sort(key=operator.itemgetter(1))\n",
    "    neighbours = []\n",
    "    for i in range(k):\n",
    "        neighbours.append(distances[i][0])\n",
    "    return neighbours\n"
   ]
  },
  {
   "cell_type": "code",
   "execution_count": 49,
   "metadata": {},
   "outputs": [
    {
     "name": "stdout",
     "output_type": "stream",
     "text": [
      "[[4, 4, 4, 'b']]\n"
     ]
    }
   ],
   "source": [
    "trainingSet=[[2,2,2,'a'], [4,4,4,'b']]\n",
    "testInstance = [5,5,5]\n",
    "k=1\n",
    "neighbours = getNeighbours(trainingSet, testInstance, k)\n",
    "print(neighbours)"
   ]
  },
  {
   "cell_type": "code",
   "execution_count": 75,
   "metadata": {
    "collapsed": true
   },
   "outputs": [],
   "source": [
    "# find out the best neighbour\n",
    "import operator\n",
    "def getResponse(neighbours):\n",
    "    classVotes={}\n",
    "    for i in range(len(neighbours)):\n",
    "        vote = neighbours[i][-1]\n",
    "        if vote in classVotes:\n",
    "            classVotes[vote] += 1\n",
    "        else:\n",
    "            classVotes[vote] = 1\n",
    "    sortedVotes = sorted(classVotes.items(), key=operator.itemgetter(1), reverse=True)\n",
    "    return sortedVotes[0][0]"
   ]
  },
  {
   "cell_type": "code",
   "execution_count": 76,
   "metadata": {},
   "outputs": [
    {
     "name": "stdout",
     "output_type": "stream",
     "text": [
      "a\n"
     ]
    }
   ],
   "source": [
    "neighbours = [[1,1,1,'a'], [2,2,2,'a'], [4,4,4,'b']]\n",
    "print(getResponse(neighbours))"
   ]
  },
  {
   "cell_type": "code",
   "execution_count": 66,
   "metadata": {
    "collapsed": true
   },
   "outputs": [],
   "source": [
    "# get accuracy of the model:\n",
    "# it is ratio of total correct predictions to all the prediction rate\n",
    "def getAccuracy(testSet, predictions):\n",
    "    correct = 0\n",
    "    for i in range(len(testSet)):\n",
    "        if testSet[i][-1] is predictions[i]:\n",
    "            correct += 1\n",
    "    return (correct/float(len(testSet))) * 100.0"
   ]
  },
  {
   "cell_type": "code",
   "execution_count": 68,
   "metadata": {},
   "outputs": [
    {
     "data": {
      "text/plain": [
       "66.66666666666666"
      ]
     },
     "execution_count": 68,
     "metadata": {},
     "output_type": "execute_result"
    }
   ],
   "source": [
    "testSet=[[1,1,1,'a'], [2,2,2,'a'], [4,4,4,'b']]\n",
    "predictions=['a','a','a']\n",
    "accuracy = getAccuracy(testSet, predictions)\n",
    "accuracy"
   ]
  },
  {
   "cell_type": "code",
   "execution_count": 77,
   "metadata": {
    "collapsed": true
   },
   "outputs": [],
   "source": [
    "def KnnAlgo():\n",
    "    # prepare data\n",
    "    trainingSet=[]\n",
    "    testSet=[]\n",
    "    k=3\n",
    "    split=0.70\n",
    "    filename='Iris - Copy.csv'\n",
    "    loadDataSet(filename, split, trainingSet, testSet)\n",
    "    print('Train Set:' + repr(len(trainingSet)))\n",
    "    print('Test Set:' + repr(len(testSet)))\n",
    "    \n",
    "    # generate predictions\n",
    "    predictions = []\n",
    "    for x in range(len(testSet)):\n",
    "        neighbors = getNeighbours(trainingSet, testSet[x], k)\n",
    "        result = getResponse(neighbors)\n",
    "        predictions.append(neighbors)\n",
    "        print('> predicted:' + repr(result) + ', actual:' + repr(testSet[x][-1]))\n",
    "    \n",
    "    # get accuracy\n",
    "    accuracy = getAccuracy(testSet, predictions)\n",
    "    print('Accuracy:' + repr(accuracy) + '%')"
   ]
  },
  {
   "cell_type": "code",
   "execution_count": 78,
   "metadata": {},
   "outputs": [
    {
     "name": "stdout",
     "output_type": "stream",
     "text": [
      "Train Set:421\n",
      "Test Set:175\n",
      "> predicted:'Iris-setosa', actual:'Iris-setosa'\n",
      "> predicted:'Iris-setosa', actual:'Iris-setosa'\n",
      "> predicted:'Iris-setosa', actual:'Iris-setosa'\n",
      "> predicted:'Iris-setosa', actual:'Iris-setosa'\n",
      "> predicted:'Iris-setosa', actual:'Iris-setosa'\n",
      "> predicted:'Iris-setosa', actual:'Iris-setosa'\n",
      "> predicted:'Iris-setosa', actual:'Iris-setosa'\n",
      "> predicted:'Iris-setosa', actual:'Iris-setosa'\n",
      "> predicted:'Iris-setosa', actual:'Iris-setosa'\n",
      "> predicted:'Iris-setosa', actual:'Iris-setosa'\n",
      "> predicted:'Iris-setosa', actual:'Iris-setosa'\n",
      "> predicted:'Iris-setosa', actual:'Iris-setosa'\n",
      "> predicted:'Iris-setosa', actual:'Iris-setosa'\n",
      "> predicted:'Iris-setosa', actual:'Iris-setosa'\n",
      "> predicted:'Iris-setosa', actual:'Iris-setosa'\n",
      "> predicted:'Iris-setosa', actual:'Iris-setosa'\n",
      "> predicted:'Iris-setosa', actual:'Iris-setosa'\n",
      "> predicted:'Iris-setosa', actual:'Iris-setosa'\n",
      "> predicted:'Iris-setosa', actual:'Iris-setosa'\n",
      "> predicted:'Iris-setosa', actual:'Iris-setosa'\n",
      "> predicted:'Iris-setosa', actual:'Iris-setosa'\n",
      "> predicted:'Iris-setosa', actual:'Iris-setosa'\n",
      "> predicted:'Iris-setosa', actual:'Iris-setosa'\n",
      "> predicted:'Iris-setosa', actual:'Iris-setosa'\n",
      "> predicted:'Iris-setosa', actual:'Iris-setosa'\n",
      "> predicted:'Iris-setosa', actual:'Iris-setosa'\n",
      "> predicted:'Iris-setosa', actual:'Iris-setosa'\n",
      "> predicted:'Iris-setosa', actual:'Iris-setosa'\n",
      "> predicted:'Iris-setosa', actual:'Iris-setosa'\n",
      "> predicted:'Iris-setosa', actual:'Iris-setosa'\n",
      "> predicted:'Iris-setosa', actual:'Iris-setosa'\n",
      "> predicted:'Iris-setosa', actual:'Iris-setosa'\n",
      "> predicted:'Iris-setosa', actual:'Iris-setosa'\n",
      "> predicted:'Iris-setosa', actual:'Iris-setosa'\n",
      "> predicted:'Iris-setosa', actual:'Iris-setosa'\n",
      "> predicted:'Iris-setosa', actual:'Iris-setosa'\n",
      "> predicted:'Iris-setosa', actual:'Iris-setosa'\n",
      "> predicted:'Iris-setosa', actual:'Iris-setosa'\n",
      "> predicted:'Iris-setosa', actual:'Iris-setosa'\n",
      "> predicted:'Iris-setosa', actual:'Iris-setosa'\n",
      "> predicted:'Iris-setosa', actual:'Iris-setosa'\n",
      "> predicted:'Iris-setosa', actual:'Iris-setosa'\n",
      "> predicted:'Iris-setosa', actual:'Iris-setosa'\n",
      "> predicted:'Iris-setosa', actual:'Iris-setosa'\n",
      "> predicted:'Iris-setosa', actual:'Iris-setosa'\n",
      "> predicted:'Iris-setosa', actual:'Iris-setosa'\n",
      "> predicted:'Iris-setosa', actual:'Iris-setosa'\n",
      "> predicted:'Iris-setosa', actual:'Iris-setosa'\n",
      "> predicted:'Iris-setosa', actual:'Iris-setosa'\n",
      "> predicted:'Iris-setosa', actual:'Iris-setosa'\n",
      "> predicted:'Iris-setosa', actual:'Iris-setosa'\n",
      "> predicted:'Iris-setosa', actual:'Iris-setosa'\n",
      "> predicted:'Iris-setosa', actual:'Iris-setosa'\n",
      "> predicted:'Iris-setosa', actual:'Iris-setosa'\n",
      "> predicted:'Iris-setosa', actual:'Iris-setosa'\n",
      "> predicted:'Iris-setosa', actual:'Iris-setosa'\n",
      "> predicted:'Iris-setosa', actual:'Iris-setosa'\n",
      "> predicted:'Iris-setosa', actual:'Iris-setosa'\n",
      "> predicted:'Iris-setosa', actual:'Iris-setosa'\n",
      "> predicted:'Iris-setosa', actual:'Iris-setosa'\n",
      "> predicted:'Iris-setosa', actual:'Iris-setosa'\n",
      "> predicted:'Iris-setosa', actual:'Iris-setosa'\n",
      "> predicted:'Iris-setosa', actual:'Iris-setosa'\n",
      "> predicted:'Iris-setosa', actual:'Iris-setosa'\n",
      "> predicted:'Iris-setosa', actual:'Iris-setosa'\n",
      "> predicted:'Iris-setosa', actual:'Iris-setosa'\n",
      "> predicted:'Iris-setosa', actual:'Iris-setosa'\n",
      "> predicted:'Iris-setosa', actual:'Iris-setosa'\n",
      "> predicted:'Iris-setosa', actual:'Iris-setosa'\n",
      "> predicted:'Iris-versicolor', actual:'Iris-versicolor'\n",
      "> predicted:'Iris-versicolor', actual:'Iris-versicolor'\n",
      "> predicted:'Iris-versicolor', actual:'Iris-versicolor'\n",
      "> predicted:'Iris-versicolor', actual:'Iris-versicolor'\n",
      "> predicted:'Iris-versicolor', actual:'Iris-versicolor'\n",
      "> predicted:'Iris-versicolor', actual:'Iris-versicolor'\n",
      "> predicted:'Iris-versicolor', actual:'Iris-versicolor'\n",
      "> predicted:'Iris-versicolor', actual:'Iris-versicolor'\n",
      "> predicted:'Iris-versicolor', actual:'Iris-versicolor'\n",
      "> predicted:'Iris-versicolor', actual:'Iris-versicolor'\n",
      "> predicted:'Iris-versicolor', actual:'Iris-versicolor'\n",
      "> predicted:'Iris-versicolor', actual:'Iris-versicolor'\n",
      "> predicted:'Iris-versicolor', actual:'Iris-versicolor'\n",
      "> predicted:'Iris-versicolor', actual:'Iris-versicolor'\n",
      "> predicted:'Iris-versicolor', actual:'Iris-versicolor'\n",
      "> predicted:'Iris-versicolor', actual:'Iris-versicolor'\n",
      "> predicted:'Iris-versicolor', actual:'Iris-versicolor'\n",
      "> predicted:'Iris-versicolor', actual:'Iris-versicolor'\n",
      "> predicted:'Iris-versicolor', actual:'Iris-versicolor'\n",
      "> predicted:'Iris-versicolor', actual:'Iris-versicolor'\n",
      "> predicted:'Iris-versicolor', actual:'Iris-versicolor'\n",
      "> predicted:'Iris-versicolor', actual:'Iris-versicolor'\n",
      "> predicted:'Iris-versicolor', actual:'Iris-versicolor'\n",
      "> predicted:'Iris-versicolor', actual:'Iris-versicolor'\n",
      "> predicted:'Iris-versicolor', actual:'Iris-versicolor'\n",
      "> predicted:'Iris-versicolor', actual:'Iris-versicolor'\n",
      "> predicted:'Iris-versicolor', actual:'Iris-versicolor'\n",
      "> predicted:'Iris-versicolor', actual:'Iris-versicolor'\n",
      "> predicted:'Iris-versicolor', actual:'Iris-versicolor'\n",
      "> predicted:'Iris-versicolor', actual:'Iris-versicolor'\n",
      "> predicted:'Iris-versicolor', actual:'Iris-versicolor'\n",
      "> predicted:'Iris-versicolor', actual:'Iris-versicolor'\n",
      "> predicted:'Iris-versicolor', actual:'Iris-versicolor'\n",
      "> predicted:'Iris-versicolor', actual:'Iris-versicolor'\n",
      "> predicted:'Iris-versicolor', actual:'Iris-versicolor'\n",
      "> predicted:'Iris-versicolor', actual:'Iris-versicolor'\n",
      "> predicted:'Iris-versicolor', actual:'Iris-versicolor'\n",
      "> predicted:'Iris-versicolor', actual:'Iris-versicolor'\n",
      "> predicted:'Iris-versicolor', actual:'Iris-versicolor'\n",
      "> predicted:'Iris-versicolor', actual:'Iris-versicolor'\n",
      "> predicted:'Iris-versicolor', actual:'Iris-versicolor'\n",
      "> predicted:'Iris-versicolor', actual:'Iris-versicolor'\n",
      "> predicted:'Iris-versicolor', actual:'Iris-versicolor'\n",
      "> predicted:'Iris-versicolor', actual:'Iris-versicolor'\n",
      "> predicted:'Iris-versicolor', actual:'Iris-versicolor'\n",
      "> predicted:'Iris-versicolor', actual:'Iris-versicolor'\n",
      "> predicted:'Iris-versicolor', actual:'Iris-versicolor'\n",
      "> predicted:'Iris-versicolor', actual:'Iris-versicolor'\n",
      "> predicted:'Iris-versicolor', actual:'Iris-versicolor'\n",
      "> predicted:'Iris-versicolor', actual:'Iris-versicolor'\n",
      "> predicted:'Iris-versicolor', actual:'Iris-versicolor'\n",
      "> predicted:'Iris-versicolor', actual:'Iris-versicolor'\n",
      "> predicted:'Iris-versicolor', actual:'Iris-versicolor'\n",
      "> predicted:'Iris-versicolor', actual:'Iris-versicolor'\n",
      "> predicted:'Iris-versicolor', actual:'Iris-versicolor'\n",
      "> predicted:'Iris-versicolor', actual:'Iris-versicolor'\n",
      "> predicted:'Iris-virginica', actual:'Iris-virginica'\n",
      "> predicted:'Iris-virginica', actual:'Iris-virginica'\n",
      "> predicted:'Iris-virginica', actual:'Iris-virginica'\n",
      "> predicted:'Iris-virginica', actual:'Iris-virginica'\n",
      "> predicted:'Iris-virginica', actual:'Iris-virginica'\n",
      "> predicted:'Iris-virginica', actual:'Iris-virginica'\n",
      "> predicted:'Iris-virginica', actual:'Iris-virginica'\n",
      "> predicted:'Iris-virginica', actual:'Iris-virginica'\n",
      "> predicted:'Iris-virginica', actual:'Iris-virginica'\n",
      "> predicted:'Iris-virginica', actual:'Iris-virginica'\n",
      "> predicted:'Iris-virginica', actual:'Iris-virginica'\n",
      "> predicted:'Iris-virginica', actual:'Iris-virginica'\n",
      "> predicted:'Iris-virginica', actual:'Iris-virginica'\n",
      "> predicted:'Iris-virginica', actual:'Iris-virginica'\n",
      "> predicted:'Iris-virginica', actual:'Iris-virginica'\n",
      "> predicted:'Iris-virginica', actual:'Iris-virginica'\n",
      "> predicted:'Iris-virginica', actual:'Iris-virginica'\n",
      "> predicted:'Iris-virginica', actual:'Iris-virginica'\n",
      "> predicted:'Iris-virginica', actual:'Iris-virginica'\n",
      "> predicted:'Iris-virginica', actual:'Iris-virginica'\n",
      "> predicted:'Iris-virginica', actual:'Iris-virginica'\n",
      "> predicted:'Iris-virginica', actual:'Iris-virginica'\n",
      "> predicted:'Iris-virginica', actual:'Iris-virginica'\n",
      "> predicted:'Iris-virginica', actual:'Iris-virginica'\n",
      "> predicted:'Iris-virginica', actual:'Iris-virginica'\n",
      "> predicted:'Iris-virginica', actual:'Iris-virginica'\n",
      "> predicted:'Iris-virginica', actual:'Iris-virginica'\n",
      "> predicted:'Iris-virginica', actual:'Iris-virginica'\n",
      "> predicted:'Iris-virginica', actual:'Iris-virginica'\n",
      "> predicted:'Iris-virginica', actual:'Iris-virginica'\n",
      "> predicted:'Iris-virginica', actual:'Iris-virginica'\n",
      "> predicted:'Iris-virginica', actual:'Iris-virginica'\n",
      "> predicted:'Iris-virginica', actual:'Iris-virginica'\n",
      "> predicted:'Iris-virginica', actual:'Iris-virginica'\n",
      "> predicted:'Iris-virginica', actual:'Iris-virginica'\n",
      "> predicted:'Iris-virginica', actual:'Iris-virginica'\n",
      "> predicted:'Iris-virginica', actual:'Iris-virginica'\n",
      "> predicted:'Iris-virginica', actual:'Iris-virginica'\n",
      "> predicted:'Iris-virginica', actual:'Iris-virginica'\n",
      "> predicted:'Iris-virginica', actual:'Iris-virginica'\n",
      "> predicted:'Iris-virginica', actual:'Iris-virginica'\n",
      "> predicted:'Iris-virginica', actual:'Iris-virginica'\n",
      "> predicted:'Iris-virginica', actual:'Iris-virginica'\n",
      "> predicted:'Iris-virginica', actual:'Iris-virginica'\n",
      "> predicted:'Iris-virginica', actual:'Iris-virginica'\n",
      "> predicted:'Iris-virginica', actual:'Iris-virginica'\n",
      "> predicted:'Iris-virginica', actual:'Iris-virginica'\n",
      "> predicted:'Iris-virginica', actual:'Iris-virginica'\n",
      "> predicted:'Iris-virginica', actual:'Iris-virginica'\n",
      "> predicted:'Iris-virginica', actual:'Iris-virginica'\n",
      "Accuracy:0.0%\n"
     ]
    }
   ],
   "source": [
    "KnnAlgo()"
   ]
  },
  {
   "cell_type": "code",
   "execution_count": null,
   "metadata": {
    "collapsed": true
   },
   "outputs": [],
   "source": []
  }
 ],
 "metadata": {
  "kernelspec": {
   "display_name": "Python 3",
   "language": "python",
   "name": "python3"
  },
  "language_info": {
   "codemirror_mode": {
    "name": "ipython",
    "version": 3
   },
   "file_extension": ".py",
   "mimetype": "text/x-python",
   "name": "python",
   "nbconvert_exporter": "python",
   "pygments_lexer": "ipython3",
   "version": "3.6.2"
  }
 },
 "nbformat": 4,
 "nbformat_minor": 2
}
